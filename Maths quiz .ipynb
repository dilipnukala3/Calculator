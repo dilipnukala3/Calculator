{
 "cells": [
  {
   "cell_type": "code",
   "execution_count": 14,
   "metadata": {},
   "outputs": [
    {
     "name": "stdout",
     "output_type": "stream",
     "text": [
      "Please enter how many questions you want to answer:2\n",
      "24 + 96 = 23\n",
      "Fool its wrong. correct answer = 120\n",
      "77 - 93 = 22\n",
      "Fool its wrong. correct answer = -16\n",
      "0 correct out of 2\n"
     ]
    }
   ],
   "source": [
    "from random import randint\n",
    "def calculation(a,b,oper):\n",
    "    if (oper == '-'):\n",
    "        return a-b\n",
    "    if (oper == '+'):\n",
    "        return a+b\n",
    "    if (oper == '*'):\n",
    "        return a*b\n",
    "    if (oper == '/'):\n",
    "        return a/b\n",
    "    raise expection (\"Error\")\n",
    "def question():\n",
    "    ops = ('/','*','+','-')\n",
    "    opindex = randint (0,len(ops)-1)\n",
    "    oper = ops[opindex]\n",
    "    a = randint(1,100)\n",
    "    b = randint(1,100)\n",
    "    return a,b,oper\n",
    "a = int(input(\"Please enter how many questions you want to answer:\"))\n",
    "totalq = a\n",
    "correct = 0\n",
    "for i in range (a):\n",
    "    q = question()\n",
    "    answer = calculation(q[0],q[1],q[2])\n",
    "    entanswer = input('{0} {2} {1} = '.format(q[0],q[1],q[2]))\n",
    "    if(str(answer)==entanswer):\n",
    "        print (\"Correct\")\n",
    "        correct = correct + 1\n",
    "    else:\n",
    "        print (\"Fool its wrong. correct answer = \" + str(answer))\n",
    "print (\"{0} correct out of {1}\".format(correct,totalq))        \n",
    "        "
   ]
  },
  {
   "cell_type": "code",
   "execution_count": null,
   "metadata": {},
   "outputs": [],
   "source": []
  },
  {
   "cell_type": "code",
   "execution_count": null,
   "metadata": {},
   "outputs": [],
   "source": []
  }
 ],
 "metadata": {
  "kernelspec": {
   "display_name": "Python 3",
   "language": "python",
   "name": "python3"
  },
  "language_info": {
   "codemirror_mode": {
    "name": "ipython",
    "version": 3
   },
   "file_extension": ".py",
   "mimetype": "text/x-python",
   "name": "python",
   "nbconvert_exporter": "python",
   "pygments_lexer": "ipython3",
   "version": "3.7.6"
  }
 },
 "nbformat": 4,
 "nbformat_minor": 4
}
